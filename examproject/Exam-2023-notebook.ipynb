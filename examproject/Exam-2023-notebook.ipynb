{
 "cells": [
  {
   "attachments": {},
   "cell_type": "markdown",
   "metadata": {},
   "source": [
    "**Table of contents**<a id='toc0_'></a>    \n",
    "- 1. [Problem 1: Optimal taxation with government consumption](#toc1_)    \n",
    "- 2. [Problem 2: Labor adjustment costs](#toc2_)    \n",
    "- 3. [Problem 3: Global optimizer with refined multi-start](#toc3_)    \n",
    "\n",
    "<!-- vscode-jupyter-toc-config\n",
    "\tnumbering=true\n",
    "\tanchor=true\n",
    "\tflat=false\n",
    "\tminLevel=2\n",
    "\tmaxLevel=6\n",
    "\t/vscode-jupyter-toc-config -->\n",
    "<!-- THIS CELL WILL BE REPLACED ON TOC UPDATE. DO NOT WRITE YOUR TEXT IN THIS CELL -->"
   ]
  },
  {
   "cell_type": "code",
   "execution_count": 50,
   "metadata": {},
   "outputs": [],
   "source": [
    "# import packages\n",
    "import numpy as np\n",
    "import scipy.optimize\n",
    "import matplotlib.pyplot as plt \n",
    "from types import SimpleNamespace\n",
    "\n",
    "# plot layout\n",
    "plt.rcParams.update({\"axes.grid\":True,\"grid.color\":\"black\",\"grid.alpha\":\"0.25\",\"grid.linestyle\":\"-\"})\n",
    "plt.rcParams.update({'font.size': 10})"
   ]
  },
  {
   "attachments": {},
   "cell_type": "markdown",
   "metadata": {},
   "source": [
    "## 1. <a id='toc1_'></a>[Problem 1: Optimal taxation with government consumption](#toc0_)"
   ]
  },
  {
   "attachments": {},
   "cell_type": "markdown",
   "metadata": {},
   "source": [
    "\n",
    "Consider a worker choosing hours of labor, $L\\in[0,24]$, to maximize utility: \n",
    "\n",
    "$$\n",
    "\\begin{align*}\n",
    "V(w,\\tau,G)&=\\max_{L\\in[0,24]}\\ln\\left(C^{\\alpha}G^{1-\\alpha}\\right)-\\nu\\frac{L^{2}}{2}\\\\&\\text{s.t.}\\\\&C=\\kappa+(1-\\tau)wL\n",
    "\\end{align*}\n",
    "$$\n",
    "\n",
    "where \n",
    "\n",
    "* $C$ is *private* consumption with weight $\\alpha\\in(0,1)$.\n",
    "* $\\kappa > 0$ is the *free private* consumption component.\n",
    "* $(1-\\tau)wL$ is the *costly private* consumption component.\n",
    "* $w > 0 $ is the real wage.\n",
    "* $\\tau \\in (0,1)$ is the labor-income tax rate.\n",
    "* $G > 0 $ is *government* consumption with weight $1-\\alpha$.\n",
    "* $\\nu > 0$ is the disutility of labor scaling factor"
   ]
  },
  {
   "attachments": {},
   "cell_type": "markdown",
   "metadata": {},
   "source": [
    "\n",
    "The baseline parameters are:\n",
    "\n",
    "$$\n",
    "\\begin{align*}\n",
    "\\alpha &= 0.5\\\\\n",
    "\\kappa &= 1.0\\\\\n",
    "\\nu &= \\frac{1}{2\\cdot16^2} \\\\\n",
    "w &= 1.0 \\\\ \n",
    "\\tau &= 0.30 \\\\\n",
    "\\end{align*}\n",
    "$$"
   ]
  },
  {
   "attachments": {},
   "cell_type": "markdown",
   "metadata": {},
   "source": [
    "**Question 1:** Verify that the optimal labor supply choice is $L^{\\star}(\\tilde{w}) =\\frac{-\\kappa+\\sqrt{\\kappa^{2}+4\\frac{\\alpha}{\\nu}\\tilde{w}^2}}{2\\tilde{w}}$, where $\\tilde{w} = (1-\\tau)w$, for $G\\in\\left\\{1.0 , 2.0\\right\\}$."
   ]
  },
  {
   "attachments": {},
   "cell_type": "markdown",
   "metadata": {},
   "source": [
    "First, insert the constraint such that the problem becomes\n",
    "\n",
    "$$\n",
    "\\begin{align*}\n",
    "V(w,\\tau,G)&=\\max_{L\\in[0,24]}\\ln\\left((\\kappa+(1-\\tau)wL)^{\\alpha}G^{1-\\alpha}\\right)-\\nu\\frac{L^{2}}{2}.\\\\\n",
    "\\end{align*}\n",
    "$$"
   ]
  },
  {
   "attachments": {},
   "cell_type": "markdown",
   "metadata": {},
   "source": [
    "Now, the only constraint is that $L \\in [0,24]$."
   ]
  },
  {
   "attachments": {},
   "cell_type": "markdown",
   "metadata": {},
   "source": [
    "Second, define parameters and the utility function."
   ]
  },
  {
   "cell_type": "code",
   "execution_count": 399,
   "metadata": {},
   "outputs": [],
   "source": [
    "# a. namespace for parameters\n",
    "par = SimpleNamespace()\n",
    "\n",
    "# b. baseline parameters\n",
    "par.G = np.nan\n",
    "par.v = 1/(2*16**2)\n",
    "par.alpha = 0.5\n",
    "par.kappa = 1.0\n",
    "par.tau = 0.30\n",
    "par.w = 1.0"
   ]
  },
  {
   "cell_type": "code",
   "execution_count": 400,
   "metadata": {},
   "outputs": [],
   "source": [
    "def f_utility(L,**kwargs): \n",
    "    \n",
    "    # update parameters if different from baseline\n",
    "    for key, value in kwargs.items():\n",
    "        setattr(par,key,value)\n",
    "\n",
    "    disutility = par.v * (L**2)/2\n",
    "    utility = np.log((par.kappa + (1-par.tau) * par.w * L)**par.alpha * par.G**(1-par.alpha))  \n",
    "    \n",
    "    return - (utility - disutility) # negative since we are maximizing"
   ]
  },
  {
   "attachments": {},
   "cell_type": "markdown",
   "metadata": {},
   "source": [
    "Then, given $G \\in \\{1.0, 2.0\\}$, search over $L \\in [0, 24]$, and pick the $L^*$ that yields the highest utility.\n",
    "\n",
    "Since the choice set is continouos, I use ```scipy.optimize.minimize```."
   ]
  },
  {
   "cell_type": "code",
   "execution_count": 402,
   "metadata": {},
   "outputs": [],
   "source": [
    "# a. government spending\n",
    "Gs = [1.0,2.0]\n",
    "\n",
    "# b. list for solutions\n",
    "sol = []\n",
    "\n",
    "# c. loop over G and save solutions\n",
    "for G in Gs:\n",
    "    \n",
    "    # c1. update G\n",
    "    par.G = G\n",
    "    # c2. find optimal labor supply\n",
    "    res = scipy.optimize.minimize(f_utility, x0=10, method=\"Nelder-Mead\", bounds=[(0,24)]) \n",
    "    # c3. save solution\n",
    "    sol.append(res.x) "
   ]
  },
  {
   "attachments": {},
   "cell_type": "markdown",
   "metadata": {},
   "source": [
    "Next, define a function that computes the analytical solution, $L^*$."
   ]
  },
  {
   "cell_type": "code",
   "execution_count": 403,
   "metadata": {},
   "outputs": [],
   "source": [
    "def Lstar(**kwargs):\n",
    "    \n",
    "    # a. update parameters if different from baseline\n",
    "    for key, value in kwargs.items():\n",
    "        setattr(par,key,value)\n",
    "\n",
    "    # b. compute analytical Lstar\n",
    "    num = -par.kappa + np.sqrt(par.kappa**2 + 4 * par.alpha/par.v * ((1-par.tau)*par.w)**2)\n",
    "    denum = 2 * (1-par.tau) * par.w\n",
    "\n",
    "    return num/denum"
   ]
  },
  {
   "attachments": {},
   "cell_type": "markdown",
   "metadata": {},
   "source": [
    "Now, print numerical solutions and verify that they align with analytical solution.\n",
    "\n",
    "It is not surprising that the numerical solution does not vary with $G$ as the analytical solution is independent of $G$."
   ]
  },
  {
   "cell_type": "code",
   "execution_count": 404,
   "metadata": {},
   "outputs": [
    {
     "name": "stdout",
     "output_type": "stream",
     "text": [
      "Numerical Lstar for G = 1.0: [15.30163574]\n",
      "Numerical Lstar for G = 2.0: [15.30163574]\n",
      "Analytical Lstar: 15.30165022719559\n"
     ]
    }
   ],
   "source": [
    "# numerical solution\n",
    "print(f'Numerical Lstar for G = 1.0: '+str(sol[0]))\n",
    "print(f'Numerical Lstar for G = 2.0: '+str(sol[1]))\n",
    "\n",
    "# analytical solution\n",
    "print(f'Analytical Lstar: '+str(Lstar(w=1.0)))"
   ]
  },
  {
   "attachments": {},
   "cell_type": "markdown",
   "metadata": {},
   "source": [
    "**Question 2:** Illustrate how $L^{\\star}(\\tilde{w})$ depends on $w$."
   ]
  },
  {
   "attachments": {},
   "cell_type": "markdown",
   "metadata": {},
   "source": [
    "Loop over a grid of wages, $w$, and save the analytical solution for $L^*(\\tilde{w})$ for each $w$ in a list."
   ]
  },
  {
   "cell_type": "code",
   "execution_count": 384,
   "metadata": {},
   "outputs": [],
   "source": [
    "# a. define a grid of wages\n",
    "grid_w = np.linspace(1, 10, 46)\n",
    "\n",
    "# b. list of solutions for each w\n",
    "sols = []\n",
    "\n",
    "# c. loop over grid and save solution to list\n",
    "for w in grid_w:\n",
    "    sols.append(Lstar(w=w))"
   ]
  },
  {
   "attachments": {},
   "cell_type": "markdown",
   "metadata": {},
   "source": [
    "Then, plot the solutions. \n",
    "\n",
    "The results indicate that the optimal labor supply, $L^*(\\tilde{w})$, depends positively on the wage, $w$."
   ]
  },
  {
   "cell_type": "code",
   "execution_count": 385,
   "metadata": {},
   "outputs": [
    {
     "data": {
      "image/png": "[encoded data removed]",
      "text/plain": [
       "<Figure size 640x480 with 1 Axes>"
      ]
     },
     "metadata": {},
     "output_type": "display_data"
    }
   ],
   "source": [
    "plt.plot(grid_w, sols, 'o', color='blue', markersize=4)\n",
    "plt.plot(grid_w, sols, '-', color='blue')\n",
    "\n",
    "plt.title('Labor supply as a function of wage')\n",
    "plt.ylabel('Labor supply $L^*(w)$')\n",
    "plt.xlabel('Wage $w$')\n",
    "plt.show()"
   ]
  },
  {
   "attachments": {},
   "cell_type": "markdown",
   "metadata": {},
   "source": [
    "\n",
    "We now consider a government, who chooses $\\tau$ and spend all of the taxes on government consumption so:\n",
    "\n",
    "$$\n",
    "G = \\tau w L^{\\star}((1-\\tau)w)\n",
    "$$\n",
    "\n",
    "**Question 3:** Plot the implied $L$, $G$ and worker utility for a grid of $\\tau$-values.\n"
   ]
  },
  {
   "attachments": {},
   "cell_type": "markdown",
   "metadata": {},
   "source": [
    "First, define a function that computes the government spending for a given labor supply, $L$."
   ]
  },
  {
   "cell_type": "code",
   "execution_count": 405,
   "metadata": {},
   "outputs": [],
   "source": [
    "def G_spending(L,**kwargs):\n",
    "        \n",
    "    # update parameters if different from baseline\n",
    "    for key, value in kwargs.items():\n",
    "        setattr(par,key,value)\n",
    "\n",
    "    return par.tau * par.w * L"
   ]
  },
  {
   "attachments": {},
   "cell_type": "markdown",
   "metadata": {},
   "source": [
    "Then, loop over a grid of $\\tau$ and\n",
    "\n",
    "1) Find optimal labor supply, $L^*(\\tilde{w})$\n",
    "2) Compute the government spending, $G$\n",
    "3) Compute the resulting worker utility, $U$"
   ]
  },
  {
   "cell_type": "code",
   "execution_count": 406,
   "metadata": {},
   "outputs": [],
   "source": [
    "# a. define a grid of tau\n",
    "grid_tau = np.linspace(0.03, 0.97, 20)\n",
    "\n",
    "# b. list of solutions for each tau\n",
    "sols_L = []\n",
    "sols_G = []\n",
    "sols_U = []\n",
    "\n",
    "# c. loop over grid of tau and save solution to list\n",
    "for tau in grid_tau:\n",
    "\n",
    "    # c1. optimal labor supply\n",
    "    Lstar_ = Lstar(tau=tau)\n",
    "    # c2. resulting government\n",
    "    par.G = G_spending(Lstar_, tau=tau)\n",
    "    # c3. save to lists\n",
    "    sols_G.append(par.G)\n",
    "    sols_L.append(Lstar_)\n",
    "    sols_U.append(-f_utility(Lstar_, tau=tau))"
   ]
  },
  {
   "attachments": {},
   "cell_type": "markdown",
   "metadata": {},
   "source": [
    "Finally, plot the results."
   ]
  },
  {
   "cell_type": "code",
   "execution_count": 407,
   "metadata": {},
   "outputs": [
    {
     "data": {
      "text/plain": [
       "[<matplotlib.lines.Line2D at 0x7f890c652340>]"
      ]
     },
     "execution_count": 407,
     "metadata": {},
     "output_type": "execute_result"
    },
    {
     "data": {
      "image/png": "[encoded data removed]",
      "text/plain": [
       "<Figure size 1200x400 with 3 Axes>"
      ]
     },
     "metadata": {},
     "output_type": "display_data"
    }
   ],
   "source": [
    "fig = plt.figure(figsize=(12,4))\n",
    "\n",
    "ax1 = fig.add_subplot(1,3,1)\n",
    "ax2 = fig.add_subplot(1,3,2)\n",
    "ax3 = fig.add_subplot(1,3,3)\n",
    "\n",
    "ax1.set_title('Government spending')\n",
    "ax2.set_title('Worker utility')\n",
    "ax3.set_title('Labor supply')\n",
    "\n",
    "ax1.set_xlabel(r'$\\tau$')\n",
    "ax2.set_xlabel(r'$\\tau$')\n",
    "ax3.set_xlabel(r'$\\tau$')\n",
    "\n",
    "ax1.plot(grid_tau, sols_G, color='blue')\n",
    "ax3.plot(grid_tau, sols_L, color='blue')\n",
    "ax2.plot(grid_tau, sols_U, color='blue')\n",
    "\n",
    "ax1.plot(grid_tau, sols_G, 'o', color='blue', markersize=4)\n",
    "ax3.plot(grid_tau, sols_L, 'o', color='blue', markersize=4)\n",
    "ax2.plot(grid_tau, sols_U, 'o', color='blue', markersize=4)"
   ]
  },
  {
   "attachments": {},
   "cell_type": "markdown",
   "metadata": {},
   "source": [
    "**Question 4:** Find the socially optimal tax rate $\\tau^{\\star}\\in(0,1)$ maximizing worker utility. Illustrate your result."
   ]
  },
  {
   "attachments": {},
   "cell_type": "markdown",
   "metadata": {},
   "source": [
    "First, define an objective function that given a value for $\\tau$\n",
    "\n",
    "1) Finds optimal labor supply, $L^*(\\tilde{w})$\n",
    "2) Computes the government spending, $G$\n",
    "3) Returns the resulting worker utility, $U$\n",
    "\n",
    "Then, I use ```scipy.optimize.minimize``` to find the tax rate, $\\tau^*$, that maximizes worker utility."
   ]
  },
  {
   "cell_type": "code",
   "execution_count": 408,
   "metadata": {},
   "outputs": [
    {
     "name": "stdout",
     "output_type": "stream",
     "text": [
      "Optimal tax rate: [0.51453125]\n",
      "Labor supply at optimal tau: [15.0031821]\n",
      "Worker utility at optimal tau: 1.8591992509322721\n",
      "Government spending at optimal tau: [7.71960604]\n"
     ]
    }
   ],
   "source": [
    "# a. define utility function for varying tau\n",
    "def f_obj(tau):\n",
    "    Lstar_ = Lstar(tau=tau)\n",
    "    G = G_spending(Lstar_, tau=tau)\n",
    "    U = f_utility(Lstar_, tau=tau, G=G)\n",
    "    return U\n",
    "\n",
    "# b. call optimizer\n",
    "opt_tau = scipy.optimize.minimize(f_obj, x0=0.2, method='Nelder-Mead', bounds=[(0,1)])\n",
    "\n",
    "# c. calculate L and G\n",
    "L_opt_tau = Lstar(tau=opt_tau.x)\n",
    "G_opt_tau = G_spending(L_opt_tau,tau=opt_tau.x)\n",
    "\n",
    "# d. print results \n",
    "print(f'Optimal tax rate: '+str(opt_tau.x))\n",
    "print(f'Labor supply at optimal tau: '+str(L_opt_tau))\n",
    "print(f'Worker utility at optimal tau: '+str(-opt_tau.fun))\n",
    "print(f'Government spending at optimal tau: '+str(G_opt_tau))"
   ]
  },
  {
   "attachments": {},
   "cell_type": "markdown",
   "metadata": {},
   "source": [
    "A plot of the optimal tax rate:"
   ]
  },
  {
   "cell_type": "code",
   "execution_count": 409,
   "metadata": {},
   "outputs": [
    {
     "data": {
      "text/plain": [
       "<matplotlib.legend.Legend at 0x7f890696fee0>"
      ]
     },
     "execution_count": 409,
     "metadata": {},
     "output_type": "execute_result"
    },
    {
     "data": {
      "image/png": "[encoded data removed]",
      "text/plain": [
       "<Figure size 1200x400 with 3 Axes>"
      ]
     },
     "metadata": {},
     "output_type": "display_data"
    }
   ],
   "source": [
    "fig = plt.figure(figsize=(12,4))\n",
    "\n",
    "ax1 = fig.add_subplot(1,3,1)\n",
    "ax2 = fig.add_subplot(1,3,2)\n",
    "ax3 = fig.add_subplot(1,3,3)\n",
    "\n",
    "ax1.set_title('Government spending')\n",
    "ax2.set_title('Worker utility')\n",
    "ax3.set_title('Labor supply')\n",
    "\n",
    "ax1.set_xlabel(r'$\\tau$')\n",
    "ax2.set_xlabel(r'$\\tau$')\n",
    "ax3.set_xlabel(r'$\\tau$')\n",
    "\n",
    "ax1.plot(grid_tau, sols_G, color='blue')\n",
    "ax3.plot(grid_tau[:-1], sols_L[:-1], color='blue')\n",
    "ax2.plot(grid_tau[1:-1], sols_U[1:-1], color='blue')\n",
    "\n",
    "ax1.plot(grid_tau, sols_G, 'o', color='blue', markersize=4)\n",
    "ax3.plot(grid_tau[:-1], sols_L[:-1], 'o', color='blue', markersize=4)\n",
    "ax2.plot(grid_tau[1:-1], sols_U[1:-1], 'o', color='blue', markersize=4)\n",
    "\n",
    "ax1.plot(opt_tau.x, G_opt_tau, 'o', color='red', markersize=5)\n",
    "ax3.plot(opt_tau.x, L_opt_tau, 'o', color='red', markersize=5)\n",
    "ax2.plot(opt_tau.x, -opt_tau.fun, 'o', color='red', markersize=5, label='Levels at optimal tax rate')\n",
    "\n",
    "ax2.legend()"
   ]
  },
  {
   "attachments": {},
   "cell_type": "markdown",
   "metadata": {},
   "source": [
    "A more general preference formulation for the worker is:\n",
    "\n",
    "$$\n",
    "\\begin{align*}\n",
    "\\mathcal{V}(w,\\tau,G)&=\\max_{L\\in[0,24]}\\frac{\\left[ \\left( \\alpha C^{\\frac{\\sigma-1}{\\sigma}}+(1-\\alpha) G^{\\frac{\\sigma-1}{\\sigma}} \\right)^{\\frac{\\sigma}{\\sigma-1} }\\right]^{1-\\rho}-1}{1-\\rho}- \\nu\\frac{L^{1+\\varepsilon}}{1+\\varepsilon},\\,\\,\\,\\varepsilon,\\rho,\\sigma>0,\\,\\,\\,\\rho,\\sigma\\neq1\\\\&\\text{s.t.}\\\\&C=\\kappa+(1-\\tau)wL\n",
    "\\end{align*}    \n",
    "$$\n",
    "\n",
    "Optimal labor supply is now $L^{\\star}(\\tilde{w},G)$."
   ]
  },
  {
   "attachments": {},
   "cell_type": "markdown",
   "metadata": {},
   "source": [
    "Questions 5 and 6 must be answered with the general formulation, and for 2 different set of parameters:\n",
    "\n",
    "- Set 1:  $\\sigma = 1.001$, $\\rho = 1.001$ and $\\varepsilon = 1.0$.\n",
    "- Set 2:  $\\sigma = 1.5$, $\\rho = 1.5$ and $\\varepsilon = 1.0 $."
   ]
  },
  {
   "attachments": {},
   "cell_type": "markdown",
   "metadata": {},
   "source": [
    "**Question 5:** Find the $G$ that solves $G = \\tau w L^{\\star}((1-\\tau)w,G)$ using the $\\tau$ found in question 4.\n",
    "\n",
    "*Hint: First write code that solves the worker problem for given values of $G$ and $\\tau$. Then find the correct G based on this.*"
   ]
  },
  {
   "attachments": {},
   "cell_type": "markdown",
   "metadata": {},
   "source": [
    "First, insert the constraint such that the problem can be written as\n",
    "\n",
    "$$\n",
    "\\begin{align*}\n",
    "\\mathcal{V}(w,\\tau,G)&=\\max_{L\\in[0,24]}\\frac{\\left[ \\left( \\alpha (\\kappa+(1-\\tau)wL)^{\\frac{\\sigma-1}{\\sigma}}+(1-\\alpha) G^{\\frac{\\sigma-1}{\\sigma}} \\right)^{\\frac{\\sigma}{\\sigma-1} }\\right]^{1-\\rho}-1}{1-\\rho}- \\nu\\frac{L^{1+\\varepsilon}}{1+\\varepsilon}\n",
    "\\end{align*}    \n",
    "$$"
   ]
  },
  {
   "attachments": {},
   "cell_type": "markdown",
   "metadata": {},
   "source": [
    "Second, define parameters."
   ]
  },
  {
   "cell_type": "code",
   "execution_count": 410,
   "metadata": {},
   "outputs": [],
   "source": [
    "# a. define new baseline parameters\n",
    "par.epsilon = 1.0\n",
    "par.sigma = 1.001\n",
    "par.rho = 1.001\n",
    "\n",
    "# b. reset other parameters\n",
    "par.v = 1/(2*16**2)\n",
    "par.alpha = 0.5\n",
    "par.kappa = 1.0\n",
    "par.w = 1.0\n",
    "par.G = 10\n",
    "\n",
    "# c. use optimal tau\n",
    "par.tau = opt_tau.x"
   ]
  },
  {
   "attachments": {},
   "cell_type": "markdown",
   "metadata": {},
   "source": [
    "Third, define a utility function that returns utility for given labor supply, $L$.\n",
    "\n",
    "As a starting point, treat $G$ as a given parameter and let $\\tau = \\tau^*$ from question 4."
   ]
  },
  {
   "cell_type": "code",
   "execution_count": 411,
   "metadata": {},
   "outputs": [],
   "source": [
    "def f_utility_general(L,**kwargs): \n",
    "    \n",
    "    # a. update parameters if different from baseline\n",
    "    for key, value in kwargs.items():\n",
    "        setattr(par,key,value)\n",
    "\n",
    "    # b. compute utility\n",
    "    exponent = ((par.sigma - 1)/par.sigma)\n",
    "    term1 = (1-par.alpha) * par.G**exponent\n",
    "    term2 = par.alpha * (par.kappa + (1-par.tau) * par.w * L)**exponent\n",
    "    utility = (((term1 + term2)**(1/exponent))**(1-par.rho) - 1)/(1 - par.rho)\n",
    "    disutility = par.v * (L**(1+par.epsilon)/(1+par.epsilon))\n",
    "    \n",
    "    return - (utility - disutility) # negative since we are maximizing"
   ]
  },
  {
   "attachments": {},
   "cell_type": "markdown",
   "metadata": {},
   "source": [
    "Then, define an objective function that \n",
    "\n",
    "1) Takes government spending, $G$, as input \n",
    "2) Finds optimal labor supply given $G$\n",
    "3) Returns $G - \\tau w L^*(\\tilde{w},G)$"
   ]
  },
  {
   "cell_type": "code",
   "execution_count": 412,
   "metadata": {},
   "outputs": [],
   "source": [
    "def f_obj(G):\n",
    "\n",
    "    # a. update G\n",
    "    par.G = G\n",
    "    # b. find optimal labor supply given G\n",
    "    Lstar = scipy.optimize.minimize(f_utility_general, x0=10, method=\"Nelder-Mead\", bounds=[(0,24)])\n",
    "    # c. return function value\n",
    "    return par.G - par.tau * par.w * Lstar.x"
   ]
  },
  {
   "attachments": {},
   "cell_type": "markdown",
   "metadata": {},
   "source": [
    "Find the root of $G - \\tau w L^*(\\tilde{w},G)$ using ```scipy.optimize.root_scalar```."
   ]
  },
  {
   "cell_type": "code",
   "execution_count": 413,
   "metadata": {},
   "outputs": [
    {
     "name": "stdout",
     "output_type": "stream",
     "text": [
      "      converged: True\n",
      "           flag: 'converged'\n",
      " function_calls: 9\n",
      "     iterations: 8\n",
      "           root: 7.711216783523576\n"
     ]
    }
   ],
   "source": [
    "res = scipy.optimize.root_scalar(f_obj,bracket=[0,20],method='brentq')\n",
    "print(res)"
   ]
  },
  {
   "attachments": {},
   "cell_type": "markdown",
   "metadata": {},
   "source": [
    "Thus, $G = 7.71$ satisfies $G = \\tau w L^*(\\tilde{w},G)$.\n",
    "\n",
    "Check the root graphically:"
   ]
  },
  {
   "cell_type": "code",
   "execution_count": 414,
   "metadata": {},
   "outputs": [
    {
     "data": {
      "image/png": "[encoded data removed]",
      "text/plain": [
       "<Figure size 640x480 with 1 Axes>"
      ]
     },
     "metadata": {},
     "output_type": "display_data"
    }
   ],
   "source": [
    "# a. initialize\n",
    "f_val = []\n",
    "Lstars = []\n",
    "grid_G = np.linspace(1,10,30)\n",
    "\n",
    "# b. loop over grid of G\n",
    "for G in grid_G:\n",
    "    \n",
    "    # b1. update G\n",
    "    par.G = G\n",
    "    # b2. find optimal labor supply given G\n",
    "    Lstar = scipy.optimize.minimize(f_utility_general, x0=10, method=\"Nelder-Mead\", bounds=[(0,24)])\n",
    "    # b3. evaluate function and save \n",
    "    f_val.append(par.G - par.tau * par.w * Lstar.x)\n",
    "\n",
    "# c. plot the function and the root\n",
    "label = r'$G - \\tau * w * L^*(\\tilde{w},G)$'\n",
    "plt.plot(grid_G, f_val, 'o', color='blue', markersize=4)\n",
    "plt.plot(grid_G, f_val, '-', color='blue', label = label)\n",
    "plt.plot(res.root, 0, 'o', color='red', markersize=4, label = 'Root')\n",
    "plt.xlabel('Government spending $G$')\n",
    "plt.legend()\n",
    "plt.show()"
   ]
  },
  {
   "attachments": {},
   "cell_type": "markdown",
   "metadata": {},
   "source": [
    "**Question 6:** Find the socially optimal tax rate, $\\tau^{\\star}$, maximizing worker utility, while keeping $G = \\tau w L^{\\star}((1-\\tau)w,G)$."
   ]
  },
  {
   "attachments": {},
   "cell_type": "markdown",
   "metadata": {},
   "source": [
    "Define an objective function that given a tax rate $\\tau$\n",
    "\n",
    "1) Finds the $G$ and $L^*$ such that $G = \\tau w L^*(\\tilde{w},G)$\n",
    "2) Returns the resulting worker utility\n",
    "\n",
    "I re-use code from question 5 to do step 1.\n",
    "\n",
    "Then, I use ```scipy.optimize.root_scalar``` to find the tax rate that maximizes worker utility, $\\tau^*$."
   ]
  },
  {
   "cell_type": "code",
   "execution_count": 415,
   "metadata": {},
   "outputs": [],
   "source": [
    "def f_obj_extend(tau):\n",
    "\n",
    "    # a. update tau\n",
    "    par.tau = tau\n",
    "    # b. find G that solves \n",
    "    res = scipy.optimize.root_scalar(f_obj,bracket=[0,20],method='brentq')\n",
    "    # c. update G\n",
    "    par.G = res.root\n",
    "    # d. optimal labor supply\n",
    "    Lstar = par.G/(par.tau * par.w)\n",
    "    # e. return worker utility\n",
    "    return f_utility_general(Lstar)"
   ]
  },
  {
   "cell_type": "code",
   "execution_count": 416,
   "metadata": {},
   "outputs": [
    {
     "name": "stdout",
     "output_type": "stream",
     "text": [
      "Optimal tax rate: [0.51445312]\n",
      "Labor supply at optimal tau: [14.98724365]\n",
      "Worker utility at optimal tau: 1.8564990973867865\n",
      "Government spending at optimal tau: 7.708770734071731\n"
     ]
    }
   ],
   "source": [
    "opt_tau = scipy.optimize.minimize(f_obj_extend, x0=0.5, method=\"Nelder-Mead\", bounds=[(0,1)])\n",
    "L_opt_tau = par.G/(par.tau * par.w)\n",
    "G_opt_tau = par.G\n",
    "\n",
    "print(f'Optimal tax rate: '+str(opt_tau.x))\n",
    "print(f'Labor supply at optimal tau: '+str(L_opt_tau))\n",
    "print(f'Worker utility at optimal tau: '+str(-opt_tau.fun))\n",
    "print(f'Government spending at optimal tau: '+str(G_opt_tau))"
   ]
  },
  {
   "attachments": {},
   "cell_type": "markdown",
   "metadata": {},
   "source": [
    "Note that these results are almost identical to the ones derived earlier using the previous model.\n",
    "\n",
    "This is because the current model is a generalization of the previous model.\n",
    "\n",
    "For $\\sigma \\rightarrow 1$, $\\rho \\rightarrow 1$, and $\\epsilon = 1$ the models are similar."
   ]
  },
  {
   "attachments": {},
   "cell_type": "markdown",
   "metadata": {},
   "source": [
    "We can check the results graphically:"
   ]
  },
  {
   "cell_type": "code",
   "execution_count": 417,
   "metadata": {},
   "outputs": [],
   "source": [
    "# a. define a grid of tau\n",
    "grid_tau = np.linspace(0.03, 0.97, 20)\n",
    "\n",
    "# b. list of solutions for each tau\n",
    "sols_L = []\n",
    "sols_G = []\n",
    "sols_U = []\n",
    "\n",
    "# c. loop over grid and save solution to list\n",
    "for tau in grid_tau:\n",
    "    \n",
    "    # c1. update tau\n",
    "    par.tau = tau\n",
    "\n",
    "    # c2. find G that solves \n",
    "    res = scipy.optimize.root_scalar(f_obj,bracket=[0,20],method='brentq')\n",
    "\n",
    "    # c3. update G\n",
    "    par.G = res.root\n",
    "\n",
    "    # c4. optimal labor supply\n",
    "    Lstar = par.G/(par.tau * par.w)\n",
    "\n",
    "    # c5. save solutions\n",
    "    sols_G.append(par.G)\n",
    "    sols_L.append(Lstar)\n",
    "    sols_U.append(-f_utility_general(Lstar))"
   ]
  },
  {
   "cell_type": "code",
   "execution_count": 418,
   "metadata": {},
   "outputs": [
    {
     "data": {
      "text/plain": [
       "<matplotlib.legend.Legend at 0x7f890d09cd60>"
      ]
     },
     "execution_count": 418,
     "metadata": {},
     "output_type": "execute_result"
    },
    {
     "data": {
      "image/png": "[encoded data removed]",
      "text/plain": [
       "<Figure size 1200x400 with 3 Axes>"
      ]
     },
     "metadata": {},
     "output_type": "display_data"
    }
   ],
   "source": [
    "fig = plt.figure(figsize=(12,4))\n",
    "\n",
    "ax1 = fig.add_subplot(1,3,1)\n",
    "ax2 = fig.add_subplot(1,3,2)\n",
    "ax3 = fig.add_subplot(1,3,3)\n",
    "\n",
    "ax1.set_title('Government spending')\n",
    "ax2.set_title('Worker utility')\n",
    "ax3.set_title('Labor supply')\n",
    "\n",
    "ax1.set_xlabel(r'$\\tau$')\n",
    "ax2.set_xlabel(r'$\\tau$')\n",
    "ax3.set_xlabel(r'$\\tau$')\n",
    "\n",
    "ax1.plot(grid_tau, sols_G, color='blue')\n",
    "ax3.plot(grid_tau, sols_L, color='blue')\n",
    "ax2.plot(grid_tau, sols_U, color='blue')\n",
    "\n",
    "ax1.plot(grid_tau, sols_G, 'o', color='blue', markersize=4)\n",
    "ax3.plot(grid_tau, sols_L, 'o', color='blue', markersize=4)\n",
    "ax2.plot(grid_tau, sols_U, 'o', color='blue', markersize=4)\n",
    "\n",
    "ax1.plot(opt_tau.x, G_opt_tau, 'o', color='red', markersize=5)\n",
    "ax3.plot(opt_tau.x, L_opt_tau, 'o', color='red', markersize=5)\n",
    "ax2.plot(opt_tau.x, -opt_tau.fun, 'o', color='red', markersize=5, label='Levels at optimal tax rate')\n",
    "\n",
    "ax2.legend()"
   ]
  },
  {
   "attachments": {},
   "cell_type": "markdown",
   "metadata": {},
   "source": [
    "However, if $\\sigma = 1.5$ and $\\rho = 1.5$, we get different results. Let's reset everything and define new $\\sigma$ and $\\rho$."
   ]
  },
  {
   "cell_type": "code",
   "execution_count": 419,
   "metadata": {},
   "outputs": [],
   "source": [
    "# a. define new baseline parameters\n",
    "par.epsilon = 1.0\n",
    "par.sigma = 1.5 # new value\n",
    "par.rho = 1.5 # new value\n",
    "\n",
    "# b. reset other parameters\n",
    "par.v = 1/(2*16**2)\n",
    "par.alpha = 0.5\n",
    "par.kappa = 1.0\n",
    "par.w = 1.0\n",
    "par.G = 10\n",
    "\n",
    "# c. use optimal tau\n",
    "par.tau = opt_tau.x"
   ]
  },
  {
   "attachments": {},
   "cell_type": "markdown",
   "metadata": {},
   "source": [
    "Find new optimal tax rate, $\\tau^*$, of new parameters."
   ]
  },
  {
   "cell_type": "code",
   "execution_count": 420,
   "metadata": {},
   "outputs": [
    {
     "name": "stdout",
     "output_type": "stream",
     "text": [
      "Optimal tax rate: [0.4609375]\n",
      "Labor supply at optimal tau: [9.89208984]\n",
      "Worker utility at optimal tau: 1.0435959924699658\n",
      "Government spending at optimal tau: 4.560601186752352\n"
     ]
    }
   ],
   "source": [
    "opt_tau = scipy.optimize.minimize(f_obj_extend, x0=0.5, method=\"Nelder-Mead\", bounds=[(0,1)])\n",
    "L_opt_tau = par.G/(par.tau * par.w)\n",
    "G_opt_tau = par.G\n",
    "\n",
    "print(f'Optimal tax rate: '+str(opt_tau.x))\n",
    "print(f'Labor supply at optimal tau: '+str(L_opt_tau))\n",
    "print(f'Worker utility at optimal tau: '+str(-opt_tau.fun))\n",
    "print(f'Government spending at optimal tau: '+str(G_opt_tau))"
   ]
  },
  {
   "attachments": {},
   "cell_type": "markdown",
   "metadata": {},
   "source": [
    "Now, $\\tau^*$ is lower."
   ]
  },
  {
   "attachments": {},
   "cell_type": "markdown",
   "metadata": {},
   "source": [
    "## 2. <a id='toc2_'></a>[Problem 2: Labor adjustment costs](#toc0_)"
   ]
  },
  {
   "attachments": {},
   "cell_type": "markdown",
   "metadata": {},
   "source": [
    "You own a hair salon. You employ hairdressers, $\\ell_t$, to produce haircuts, $y_t = \\ell_t$.\n",
    "\n",
    "The wage for each haridresser is $w$.\n",
    "\n",
    "The demand for haircuts implies that the price of haircuts you can charge is $p_t = \\kappa_t y_t^{-\\eta}$, where $\\kappa_t$ is a demand-shock and $\\eta \\in (0,1)$ measures the elasticity of demand.\n",
    "\n",
    "Profits are:\n",
    "\n",
    "$$\n",
    "\\Pi_t = p_t y_t - w \\ell_t = \\kappa_t \\ell_t^{1-\\eta} - w \\ell_t\n",
    "$$"
   ]
  },
  {
   "attachments": {},
   "cell_type": "markdown",
   "metadata": {},
   "source": [
    "Baseline parameters are:\n",
    "- $\\eta = 0.5$\n",
    "- $w = 1.0$"
   ]
  },
  {
   "attachments": {},
   "cell_type": "markdown",
   "metadata": {},
   "source": [
    "**Question 1:** Verify numerically that $\\ell_{t}=\\left(\\frac{(1-\\eta)\\kappa_{t}}{w}\\right)^{\\frac{1}{\\eta}}$ maximises profits, for $\\kappa\\in\\left\\{1.0 , 2.0\\right\\}$."
   ]
  },
  {
   "cell_type": "code",
   "execution_count": 8,
   "metadata": {},
   "outputs": [],
   "source": [
    "# write your code here"
   ]
  },
  {
   "attachments": {},
   "cell_type": "markdown",
   "metadata": {},
   "source": [
    "We now consider a *dynamic* version of the model.\n",
    "\n",
    "* The demand-shock is a so-called AR(1) in logs, \n",
    "\n",
    "$$\n",
    "\\log \\kappa_{t} = \\rho \\log \\kappa_{t-1} + \\epsilon_{t},\\,\\,\\, \\epsilon_{t+1} \\sim \\mathcal{N}(-0.5\\sigma_{\\epsilon}^2,\\sigma_{\\epsilon})\n",
    "$$\n",
    "\n",
    "* Any hiring or firing implies a fixed adjustment cost, $\\iota > 0 $.\n",
    "* Future profits are discounted with a monthly factor of $R \\in (0,1)$.\n",
    "\n",
    "The initial demand shock is $\\kappa_{-1} = 1$ and the planning horizon is 10 years, i.e. 120 months so $t \\in \\{0,1,2,\\dots,119\\}$. Initially you don't have any employees, $\\ell_{-1}=0$"
   ]
  },
  {
   "attachments": {},
   "cell_type": "markdown",
   "metadata": {},
   "source": [
    "\n",
    "The *ex post* value of the salon is *conditional* on the shock series is:\n",
    "\n",
    "$$\n",
    "h(\\epsilon_0,\\epsilon_1,\\dots,\\epsilon_{119}) = \\left[\\sum_{t=0}^{119}R^{-t}\\left[\\kappa_{t}\\ell_{t}^{1-\\eta}-w\\ell_{t}-\\boldsymbol{1}_{\\ell_{t}\\neq\\ell_{t-1}}\\iota\\right]\\right]\n",
    "$$\n",
    "\n",
    "The *ex ante* expected value of the salon can be approximated by\n",
    "\n",
    "$$\n",
    "H = \\mathbb{E}[h(\\epsilon_0,\\epsilon_1,\\dots,\\epsilon_{119})] \\approx \\frac{1}{K}\\sum_{k=0}^{K} h(\\epsilon_0^k,\\epsilon_1^k,\\dots,\\epsilon_{119}^k)\n",
    "$$\n",
    "\n",
    "where each $k\\in\\{0,1,\\dots,K-1\\}$ is a random shock series. Maximizing profitability means maximizing $H$.\n"
   ]
  },
  {
   "attachments": {},
   "cell_type": "markdown",
   "metadata": {},
   "source": [
    "Baseline parameters are: \n",
    "\n",
    "- $\\rho = 0.90$\n",
    "- $\\iota = 0.01$\n",
    "- $\\sigma_{\\epsilon} = 0.10$\n",
    "- $R = \\left(1+0.01\\right)^{1/12}$"
   ]
  },
  {
   "attachments": {},
   "cell_type": "markdown",
   "metadata": {},
   "source": [
    "**Question 2:** Calculate $H$ if the policy  $\\ell_{t}=\\left(\\frac{(1-\\eta)\\kappa_{t}}{w}\\right)^{\\frac{1}{\\eta}}$ from question 1 is followed. Choose $K$ so the approximation is good enough to not affect your results substantially."
   ]
  },
  {
   "cell_type": "code",
   "execution_count": 9,
   "metadata": {},
   "outputs": [],
   "source": [
    "# write your code here "
   ]
  },
  {
   "attachments": {},
   "cell_type": "markdown",
   "metadata": {},
   "source": [
    "Next, we consider policies on the form:\n",
    "\n",
    "$$\n",
    "\n",
    "\\ell_{t}=\\begin{cases}\n",
    "\\ell_t^{\\ast}  & \\text{if }\\left|\\ell_{t-1}-\\ell_t^{\\ast} \\right|>\\Delta\\\\\n",
    "\\ell_{t-1} & \\text{else }\n",
    "\\end{cases}\n",
    "\\\\\n",
    "\\text{where}\\,\\,\\ell_t^{\\ast} = \\left(\\frac{(1-\\eta)\\kappa_{t}}{w}\\right)^{\\frac{1}{\\eta}} \\\\\n",
    "\n",
    "$$\n",
    "With $\\Delta \\geq 0$ and $\\Delta = 0$ being the previous policy.\n"
   ]
  },
  {
   "attachments": {},
   "cell_type": "markdown",
   "metadata": {},
   "source": [
    "\n",
    "**Question 3:** Calculate $H$ if the policy above was followed with $\\Delta = 0.05$. Does it improve profitability?"
   ]
  },
  {
   "cell_type": "code",
   "execution_count": 10,
   "metadata": {},
   "outputs": [],
   "source": [
    "# write your code here"
   ]
  },
  {
   "attachments": {},
   "cell_type": "markdown",
   "metadata": {},
   "source": [
    "**Question 4:** Find the optimal $\\Delta$ maximizing $H$. Illustrate your result."
   ]
  },
  {
   "cell_type": "code",
   "execution_count": 11,
   "metadata": {},
   "outputs": [],
   "source": [
    "# write your code here"
   ]
  },
  {
   "attachments": {},
   "cell_type": "markdown",
   "metadata": {},
   "source": [
    "\n",
    "**Question 5:** Suggest an alternative policy you believe might improve profitability. Implement and test your policy.\n",
    "\n"
   ]
  },
  {
   "cell_type": "code",
   "execution_count": 12,
   "metadata": {},
   "outputs": [],
   "source": [
    "# write your code here"
   ]
  },
  {
   "attachments": {},
   "cell_type": "markdown",
   "metadata": {},
   "source": [
    "## 3. <a id='toc3_'></a>[Problem 3: Global optimizer with refined multi-start](#toc0_)"
   ]
  },
  {
   "attachments": {},
   "cell_type": "markdown",
   "metadata": {},
   "source": [
    "We consider the Griewank function:\n",
    "\n",
    "$$ f(\\boldsymbol{x}) = \\sum^n_{i=1} \\frac{x^2_i}{4000}-\\prod^n_{i=1}\\cos\\left(\\frac{x_i}{\\sqrt{i}}\\right)+1$$\n",
    "\n",
    "The **global minimum** of this function is $f(0,0) = 0$ (remember: $\\cos(0)=1$).<br>\n",
    "But the function also have a lot of **local minima**."
   ]
  },
  {
   "cell_type": "code",
   "execution_count": 13,
   "metadata": {},
   "outputs": [],
   "source": [
    "def griewank(x):\n",
    "    return griewank_(x[0],x[1])\n",
    "    \n",
    "def griewank_(x1,x2):\n",
    "    A = x1**2/4000 + x2**2/4000\n",
    "    B = np.cos(x1/np.sqrt(1))*np.cos(x2/np.sqrt(2))\n",
    "    return A-B+1"
   ]
  },
  {
   "attachments": {},
   "cell_type": "markdown",
   "metadata": {},
   "source": [
    "A **refined global optimizer with multi-start** is:\n",
    "\n",
    "1. Choose *bounds* for $\\mathbf{x}$ and *tolerance* $\\tau > 0$.\n",
    "2. Choose number of *warm-up iterations*, $\\underline{K} > 0$ and *maximum number of iterations*, $K > \\underline{K}$.\n",
    "3. In each iteration for $k \\in \\{0,1,\\dots,K-1\\}$:\n",
    "\n",
    "    A. Draw random $\\mathbf{x}^k$ uniformly within chosen bounds.\n",
    "\n",
    "    B. If $k < \\underline{K}$ go to step E.\n",
    "\n",
    "    C. Calculate $\\chi^k = 0.50\\cdot\\frac{2}{1+\\exp((k-\\underline{K})/100)}$  \n",
    "\n",
    "    D. Set $\\mathbf{x}^{k0} = \\chi^k \\mathbf{x}^k + (1-\\chi^k)\\mathbf{x}^{\\ast} $\n",
    "\n",
    "    E. Run optimizer with $\\mathbf{x}^{k0}$ as initial guess and $\\mathbf{x}^{k\\ast}$ as result.\n",
    "\n",
    "    F. Set $\\mathbf{x}^{\\ast} = \\mathbf{x}^{k\\ast}$ if $k = 0$ or $f(\\mathbf{x}^{k\\ast}) < f(\\mathbf{x}^{\\ast})$\n",
    "\n",
    "    G. If $f(\\mathbf{x}^{\\ast}) < \\tau$ go to step 4.\n",
    "\n",
    "4. Return the result $\\mathbf{x}^{\\ast}$."
   ]
  },
  {
   "attachments": {},
   "cell_type": "markdown",
   "metadata": {},
   "source": [
    "As settings we choose:\n",
    "\n",
    "* $x_1,x_2 \\in  [-600,600]$\n",
    "* $\\tau = 10^{-8}$\n",
    "* $\\underline{K}=10$\n",
    "* $K=1000$\n",
    "\n",
    "The optimizer in Step 3.E is `BFGS` with a tolerance of $\\tau$."
   ]
  },
  {
   "attachments": {},
   "cell_type": "markdown",
   "metadata": {},
   "source": [
    "**Question 1:** Implement the refined global optimizer with multi-start. Illustrate how the effective initial guesses $\\mathbf{x}^{k0}$ vary with the iteration counter $k$."
   ]
  },
  {
   "cell_type": "code",
   "execution_count": 14,
   "metadata": {},
   "outputs": [],
   "source": [
    "# write your code here"
   ]
  },
  {
   "attachments": {},
   "cell_type": "markdown",
   "metadata": {},
   "source": [
    "**Question 2:** Is it a better idea to set $\\underline{K} = 100$? Is the convergence faster?"
   ]
  },
  {
   "cell_type": "code",
   "execution_count": 15,
   "metadata": {},
   "outputs": [],
   "source": [
    "# write your code here"
   ]
  }
 ],
 "metadata": {
  "kernelspec": {
   "display_name": "base",
   "language": "python",
   "name": "python3"
  },
  "language_info": {
   "codemirror_mode": {
    "name": "ipython",
    "version": 3
   },
   "file_extension": ".py",
   "mimetype": "text/x-python",
   "name": "python",
   "nbconvert_exporter": "python",
   "pygments_lexer": "ipython3",
   "version": "3.9.13"
  },
  "orig_nbformat": 4
 },
 "nbformat": 4,
 "nbformat_minor": 2
}
