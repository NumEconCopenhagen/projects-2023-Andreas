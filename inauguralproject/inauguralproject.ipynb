{
 "cells": [
  {
   "cell_type": "markdown",
   "metadata": {},
   "source": [
    "# Inaugural Project"
   ]
  },
  {
   "attachments": {},
   "cell_type": "markdown",
   "metadata": {},
   "source": [
    "> **Note the following:** \n",
    "> 1. This is an example of how to structure your **inaugural project**.\n",
    "> 1. Remember the general advice on structuring and commenting your code\n",
    "> 1. The `inauguralproject.py` file includes a function which can be used multiple times in this notebook."
   ]
  },
  {
   "cell_type": "markdown",
   "metadata": {},
   "source": [
    "Imports and set magics:"
   ]
  },
  {
   "cell_type": "code",
   "execution_count": 122,
   "metadata": {},
   "outputs": [
    {
     "name": "stdout",
     "output_type": "stream",
     "text": [
      "The autoreload extension is already loaded. To reload it, use:\n",
      "  %reload_ext autoreload\n"
     ]
    }
   ],
   "source": [
    "import numpy as np\n",
    "import matplotlib.pyplot as plt  \n",
    "\n",
    "# autoreload modules when code is run. Otherwise, python will not see recent changes. \n",
    "%load_ext autoreload\n",
    "%autoreload 2\n",
    "\n",
    "# Import your own code\n",
    "import inauguralproject\n",
    "from HouseholdSpecializationModel import HouseholdSpecializationModelClass"
   ]
  },
  {
   "cell_type": "markdown",
   "metadata": {},
   "source": [
    "# Question 1"
   ]
  },
  {
   "attachments": {},
   "cell_type": "markdown",
   "metadata": {},
   "source": [
    "### **Method:**\n",
    "\n",
    "The model is solved using the HouseholdSpecializationModelClass in the following way:\n",
    "\n",
    "- Create an instance of the class with baseline parameters.<br><br>\n",
    "- Use the method, ```calc_utility()```, to calculate all the possible utilities.<br><br>\n",
    "- Use the method, ```solve_discrete()```, to maximize utility by findind the optimal level of $H_M, H_F, L_M, L_F$.<br><br>\n",
    "- Do this for different values of $\\alpha$ and $\\sigma$."
   ]
  },
  {
   "attachments": {},
   "cell_type": "markdown",
   "metadata": {},
   "source": [
    "### **Solution:**"
   ]
  },
  {
   "attachments": {},
   "cell_type": "markdown",
   "metadata": {},
   "source": [
    "**Allow for different values of $\\sigma$ by adjusting the code in the function, calc_utility. Add the following under b:**"
   ]
  },
  {
   "cell_type": "code",
   "execution_count": 45,
   "metadata": {},
   "outputs": [],
   "source": [
    "# if par.sigma == 0:\n",
    "#             H = np.min(HM,HF)\n",
    "#         elif par.sigma == 1:\n",
    "#             H = HM**(1-par.alpha)*HF**par.alpha\n",
    "#         else:\n",
    "#             exponent = (par.sigma-1)/par.sigma\n",
    "#             term1 = (1-par.alpha)*HM**exponent\n",
    "#             term2 = par.alpha*HF**exponent\n",
    "#             H = (term1 + term2)**(exponent**(-1))      "
   ]
  },
  {
   "attachments": {},
   "cell_type": "markdown",
   "metadata": {},
   "source": [
    "**Create instance of the model class:**"
   ]
  },
  {
   "cell_type": "code",
   "execution_count": 123,
   "metadata": {},
   "outputs": [],
   "source": [
    "model = HouseholdSpecializationModelClass()"
   ]
  },
  {
   "attachments": {},
   "cell_type": "markdown",
   "metadata": {},
   "source": [
    "**Setup:**"
   ]
  },
  {
   "cell_type": "code",
   "execution_count": 124,
   "metadata": {},
   "outputs": [],
   "source": [
    "# simplify syntax\n",
    "par = model.par\n",
    "sol = model.sol\n",
    "\n",
    "# create lists of parameters\n",
    "sigmas = [0.5, 1.0, 1.5]\n",
    "alphas = [0.25, 0.5, 0.75]"
   ]
  },
  {
   "attachments": {},
   "cell_type": "markdown",
   "metadata": {},
   "source": [
    "**Run model:**"
   ]
  },
  {
   "cell_type": "code",
   "execution_count": 101,
   "metadata": {},
   "outputs": [
    {
     "name": "stdout",
     "output_type": "stream",
     "text": [
      "Solution for sigma = 0.5:\n"
     ]
    },
    {
     "name": "stderr",
     "output_type": "stream",
     "text": [
      "/Users/andreas/projects-2023-andreas/inauguralproject/HouseholdSpecializationModel.py:91: RuntimeWarning: invalid value encountered in reciprocal\n",
      "  \n"
     ]
    },
    {
     "name": "stdout",
     "output_type": "stream",
     "text": [
      "LM = 4.5000\n",
      "HM = 4.5000\n",
      "LF = 4.5000\n",
      "HF = 4.5000\n",
      "Solution for sigma = 1.0:\n",
      "LM = 4.5000\n",
      "HM = 4.5000\n",
      "LF = 4.5000\n",
      "HF = 4.5000\n",
      "Solution for sigma = 1.5:\n",
      "LM = 4.5000\n",
      "HM = 4.5000\n",
      "LF = 4.5000\n",
      "HF = 4.5000\n",
      "Solution for alpha = 0.25:\n",
      "LM = 4.5000\n",
      "HM = 4.5000\n",
      "LF = 4.5000\n",
      "HF = 4.5000\n",
      "Solution for alpha = 0.5:\n",
      "LM = 4.5000\n",
      "HM = 4.5000\n",
      "LF = 4.5000\n",
      "HF = 4.5000\n",
      "Solution for alpha = 0.75:\n",
      "LM = 4.5000\n",
      "HM = 4.5000\n",
      "LF = 4.5000\n",
      "HF = 4.5000\n"
     ]
    }
   ],
   "source": [
    "# create a empty lists to store output\n",
    "frac_sigma = []\n",
    "frac_alpha = []\n",
    "\n",
    "# loop over alpha and sigma\n",
    "for parameter_list, parameter_name, output_list in [(sigmas, 'sigma', frac_sigma), (alphas, 'alpha', frac_alpha)]:\n",
    "\n",
    "    # reset baseline parameters\n",
    "    par.sigma = 1.0\n",
    "    par.alpha = 0.5\n",
    "\n",
    "    # loop over different values\n",
    "    for value in parameter_list:\n",
    "        \n",
    "        # set parameter value\n",
    "        setattr(par, parameter_name, value)\n",
    "\n",
    "        # save output and save to list\n",
    "        print(\"Solution for \" + str(parameter_name) + \" = \" + str(value) + \":\")\n",
    "        opt = model.solve_discrete(do_print=True)\n",
    "        output_list.append(opt.HF/opt.HM)"
   ]
  },
  {
   "attachments": {},
   "cell_type": "markdown",
   "metadata": {},
   "source": [
    "**Plot $\\frac{H_F}{H_M}$ for different values of $\\sigma$ and $\\alpha$:** "
   ]
  },
  {
   "cell_type": "code",
   "execution_count": 86,
   "metadata": {},
   "outputs": [
    {
     "data": {
      "image/png": "[encoded data removed]",
      "text/plain": [
       "<Figure size 1000x500 with 2 Axes>"
      ]
     },
     "metadata": {},
     "output_type": "display_data"
    }
   ],
   "source": [
    "# plot the results\n",
    "fig, (ax1, ax2) = plt.subplots(1, 2, figsize=(10, 5))\n",
    "\n",
    "ax1.scatter(sigmas, frac_sigma)\n",
    "ax2.scatter(alphas, frac_alpha)\n",
    "\n",
    "# include a grid\n",
    "ax1.grid(True)\n",
    "ax2.grid(True)\n",
    "\n",
    "# set the labels and title\n",
    "ax1.set_xlabel(r'$\\sigma$')\n",
    "ax1.set_ylabel(r'$\\frac{H_F}{H_M}$', rotation=0)\n",
    "ax1.set_title(r'Effect of $\\sigma$ on the optimal house work ratio')\n",
    "\n",
    "ax2.set_xlabel(r'$\\alpha$')\n",
    "ax2.set_ylabel(r'$\\frac{H_F}{H_M}$', rotation=0)\n",
    "ax2.set_title(r'Effect of $\\alpha$ on the optimal house work ratio')\n",
    "\n",
    "# show the plot\n",
    "plt.show()"
   ]
  },
  {
   "attachments": {},
   "cell_type": "markdown",
   "metadata": {},
   "source": [
    "It is evident that the house work ratio, $H_F/H_M$, does not change with the elasticity of substitution, $\\sigma$. Each sex works the same amount, though a high elasticity of substitution allows them to change their relative workload and keep the same house production. \n",
    "\n",
    "This is because there is no incentive to do so. I.e. each sex is equally productive as $\\alpha = 0.5$.\n",
    "\n",
    "If we change $\\alpha = 0.25$, the house work ratio decreasing as the elasticity of subsitution increases:"
   ]
  },
  {
   "cell_type": "code",
   "execution_count": 87,
   "metadata": {},
   "outputs": [
    {
     "name": "stdout",
     "output_type": "stream",
     "text": [
      "Solution for sigma = 0.5:\n"
     ]
    },
    {
     "name": "stderr",
     "output_type": "stream",
     "text": [
      "/Users/andreas/projects-2023-andreas/inauguralproject/HouseholdSpecializationModel.py:91: RuntimeWarning: invalid value encountered in reciprocal\n",
      "  \n"
     ]
    },
    {
     "name": "stdout",
     "output_type": "stream",
     "text": [
      "LM = 3.0000\n",
      "HM = 5.5000\n",
      "LF = 6.0000\n",
      "HF = 3.0000\n",
      "Solution for sigma = 1.0:\n",
      "LM = 2.0000\n",
      "HM = 6.5000\n",
      "LF = 7.0000\n",
      "HF = 2.0000\n",
      "Solution for sigma = 1.5:\n",
      "LM = 1.5000\n",
      "HM = 7.0000\n",
      "LF = 7.0000\n",
      "HF = 1.5000\n",
      "Solution for alpha = 0.25:\n",
      "LM = 2.0000\n",
      "HM = 6.5000\n",
      "LF = 7.0000\n",
      "HF = 2.0000\n",
      "Solution for alpha = 0.5:\n",
      "LM = 4.5000\n",
      "HM = 4.5000\n",
      "LF = 4.5000\n",
      "HF = 4.5000\n",
      "Solution for alpha = 0.75:\n",
      "LM = 6.5000\n",
      "HM = 2.0000\n",
      "LF = 2.5000\n",
      "HF = 6.5000\n"
     ]
    }
   ],
   "source": [
    "# create a empty lists to store output\n",
    "frac_sigma = []\n",
    "frac_alpha = []\n",
    "\n",
    "# loop over alpha and sigma\n",
    "for parameter_list, parameter_name, output_list in [(sigmas, 'sigma', frac_sigma), (alphas, 'alpha', frac_alpha)]:\n",
    "\n",
    "    # reset baseline parameters\n",
    "    par.sigma = 1.0\n",
    "    par.alpha = 0.25\n",
    "\n",
    "    # loop over different values\n",
    "    for value in parameter_list:\n",
    "        \n",
    "        # set parameter value\n",
    "        setattr(par, parameter_name, value)\n",
    "\n",
    "        # save output and save to list\n",
    "        print(\"Solution for \" + str(parameter_name) + \" = \" + str(value) + \":\")\n",
    "        opt = model.solve_discrete(do_print=True)\n",
    "        output_list.append(opt.HF/opt.HM)"
   ]
  },
  {
   "cell_type": "code",
   "execution_count": 120,
   "metadata": {},
   "outputs": [
    {
     "data": {
      "image/png": "[encoded data removed]",
      "text/plain": [
       "<Figure size 500x500 with 1 Axes>"
      ]
     },
     "metadata": {},
     "output_type": "display_data"
    }
   ],
   "source": [
    "# plot the results\n",
    "fig, ax1 = plt.subplots(1, 1, figsize=(5, 5))\n",
    "\n",
    "ax1.scatter(sigmas, frac_sigma)\n",
    "\n",
    "# include a grid\n",
    "ax1.grid(True)\n",
    "\n",
    "# set the labels and title\n",
    "ax1.set_xlabel(r'$\\sigma$')\n",
    "ax1.set_ylabel(r'$\\frac{H_F}{H_M}$', rotation=0)\n",
    "ax1.set_title(r'Effect of $\\sigma$ on the optimal house work ratio')\n",
    "\n",
    "# show the plot\n",
    "plt.show()"
   ]
  },
  {
   "cell_type": "markdown",
   "metadata": {},
   "source": [
    "# Question 2"
   ]
  },
  {
   "cell_type": "markdown",
   "metadata": {},
   "source": [
    "Explain your code and procedure"
   ]
  },
  {
   "cell_type": "code",
   "execution_count": 116,
   "metadata": {},
   "outputs": [],
   "source": [
    "# list of wages\n",
    "wages = [0.8,0.9,1.0,1.1,1.2]\n",
    "\n",
    "# base parameters\n",
    "model.__init__()"
   ]
  },
  {
   "cell_type": "code",
   "execution_count": 117,
   "metadata": {},
   "outputs": [
    {
     "name": "stdout",
     "output_type": "stream",
     "text": [
      "Solution for wF = 0.8:\n"
     ]
    },
    {
     "name": "stderr",
     "output_type": "stream",
     "text": [
      "/Users/andreas/projects-2023-andreas/inauguralproject/HouseholdSpecializationModel.py:91: RuntimeWarning: invalid value encountered in reciprocal\n",
      "  \n"
     ]
    },
    {
     "name": "stdout",
     "output_type": "stream",
     "text": [
      "LM = 4.5000\n",
      "HM = 4.5000\n",
      "LF = 4.5000\n",
      "HF = 4.5000\n",
      "Solution for wF = 0.9:\n",
      "LM = 4.5000\n",
      "HM = 4.5000\n",
      "LF = 4.5000\n",
      "HF = 4.5000\n",
      "Solution for wF = 1.0:\n",
      "LM = 4.5000\n",
      "HM = 4.5000\n",
      "LF = 4.5000\n",
      "HF = 4.5000\n",
      "Solution for wF = 1.1:\n",
      "LM = 4.5000\n",
      "HM = 4.5000\n",
      "LF = 4.5000\n",
      "HF = 4.5000\n",
      "Solution for wF = 1.2:\n",
      "LM = 4.5000\n",
      "HM = 4.5000\n",
      "LF = 4.5000\n",
      "HF = 4.5000\n"
     ]
    }
   ],
   "source": [
    "# create a empty lists to store output\n",
    "frac_wages = []\n",
    "\n",
    "# loop over different wages\n",
    "for value in wages:\n",
    "        \n",
    "    # set wage\n",
    "    setattr(par, 'wF', value)\n",
    "\n",
    "    # save output and save to list\n",
    "    print(\"Solution for wF = \" + str(value) + \":\")\n",
    "    opt = model.solve_discrete(do_print=True)\n",
    "    frac_wages.append(opt.HF/opt.HM)    "
   ]
  },
  {
   "cell_type": "code",
   "execution_count": 118,
   "metadata": {},
   "outputs": [
    {
     "data": {
      "image/png": "[encoded data removed]",
      "text/plain": [
       "<Figure size 500x500 with 1 Axes>"
      ]
     },
     "metadata": {},
     "output_type": "display_data"
    }
   ],
   "source": [
    "# plot the results\n",
    "fig, ax1 = plt.subplots(1, 1, figsize=(5, 5))\n",
    "\n",
    "# log\n",
    "log_wages = [np.log(x/par.wM) for x in wages]\n",
    "log_frac = [np.log(x) for x in frac_wages]\n",
    "\n",
    "ax1.scatter(log_wages, log_frac)\n",
    "\n",
    "# include a grid\n",
    "ax1.grid(True)\n",
    "\n",
    "# set the labels and title\n",
    "ax1.set_xlabel(r'$w_F$')\n",
    "ax1.set_ylabel(r'$\\frac{H_F}{H_M}$', rotation=0)\n",
    "ax1.set_title(r'Effect of $w_F$ on the optimal house work ratio')\n",
    "\n",
    "# show the plot\n",
    "plt.show()"
   ]
  },
  {
   "cell_type": "markdown",
   "metadata": {},
   "source": [
    "# Question 3"
   ]
  },
  {
   "cell_type": "markdown",
   "metadata": {},
   "source": [
    "Explain your code and procedure"
   ]
  },
  {
   "cell_type": "code",
   "execution_count": 143,
   "metadata": {},
   "outputs": [
    {
     "name": "stdout",
     "output_type": "stream",
     "text": [
      "Optimization terminated successfully\n",
      "[0.00000000e+00 1.11022302e-16 3.33066907e-16 1.11022302e-16]\n",
      "Optimization terminated successfully\n",
      "[0.00000000e+00 1.11022302e-16 3.33066907e-16 1.11022302e-16]\n",
      "Optimization terminated successfully\n",
      "[0.00000000e+00 1.11022302e-16 3.33066907e-16 1.11022302e-16]\n",
      "Optimization terminated successfully\n",
      "[0.00000000e+00 1.11022302e-16 3.33066907e-16 1.11022302e-16]\n",
      "Optimization terminated successfully\n",
      "[0.00000000e+00 1.11022302e-16 3.33066907e-16 1.11022302e-16]\n"
     ]
    }
   ],
   "source": [
    "model.__init__()\n",
    "\n",
    "# create a empty lists to store output\n",
    "frac_cont = []\n",
    "\n",
    "# loop over different wages\n",
    "for value in wages:\n",
    "        \n",
    "    # set wage\n",
    "    setattr(par, 'wF', value)\n",
    "\n",
    "    # save output and save to list\n",
    "    sol = model.solve()\n",
    "    frac_cont.append(sol.x[3]/sol.x[1])    "
   ]
  },
  {
   "cell_type": "code",
   "execution_count": 144,
   "metadata": {},
   "outputs": [
    {
     "name": "stdout",
     "output_type": "stream",
     "text": [
      "[1.0, 1.0, 1.0, 1.0, 1.0]\n"
     ]
    }
   ],
   "source": [
    "print(frac_cont)"
   ]
  },
  {
   "cell_type": "code",
   "execution_count": null,
   "metadata": {},
   "outputs": [
    {
     "data": {
      "image/png": "[encoded data removed]",
      "text/plain": [
       "<Figure size 500x500 with 1 Axes>"
      ]
     },
     "metadata": {},
     "output_type": "display_data"
    }
   ],
   "source": [
    "# plot the results\n",
    "fig, ax1 = plt.subplots(1, 1, figsize=(5, 5))\n",
    "\n",
    "# log\n",
    "log_wages = [np.log(x/par.wM) for x in wages]\n",
    "log_frac = [np.log(x) for x in frac_cont]\n",
    "\n",
    "ax1.scatter(log_wages, log_frac)\n",
    "\n",
    "# include a grid\n",
    "ax1.grid(True)\n",
    "\n",
    "# set the labels and title\n",
    "ax1.set_xlabel(r'$w_F$')\n",
    "ax1.set_ylabel(r'$\\frac{H_F}{H_M}$', rotation=0)\n",
    "ax1.set_title(r'Effect of $w_F$ on the optimal house work ratio')\n",
    "\n",
    "# show the plot\n",
    "plt.show()"
   ]
  },
  {
   "cell_type": "markdown",
   "metadata": {},
   "source": [
    "ADD CONCISE CONLUSION."
   ]
  }
 ],
 "metadata": {
  "kernelspec": {
   "display_name": "base",
   "language": "python",
   "name": "python3"
  },
  "language_info": {
   "codemirror_mode": {
    "name": "ipython",
    "version": 3
   },
   "file_extension": ".py",
   "mimetype": "text/x-python",
   "name": "python",
   "nbconvert_exporter": "python",
   "pygments_lexer": "ipython3",
   "version": "3.9.13"
  },
  "toc-autonumbering": true,
  "vscode": {
   "interpreter": {
    "hash": "47ef90cdf3004d3f859f1fb202523c65c07ba7c22eefd261b181f4744e2d0403"
   }
  }
 },
 "nbformat": 4,
 "nbformat_minor": 4
}
